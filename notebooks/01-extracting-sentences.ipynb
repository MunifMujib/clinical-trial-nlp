{
 "cells": [
  {
   "cell_type": "markdown",
   "metadata": {},
   "source": [
    "# Exploring NLP for Clinical Trial Records\n",
    "## Installment 1: Extracting Sentences of Interest\n",
    "### by Munif Mujib"
   ]
  },
  {
   "cell_type": "markdown",
   "metadata": {},
   "source": [
    "## Getting the data"
   ]
  },
  {
   "cell_type": "markdown",
   "metadata": {},
   "source": [
    "First, we'll download all the available trial records from _clinicaltrials.gov_ using this link: https://clinicaltrials.gov/AllPublicXML.zip.\n",
    "\n",
    "We'll extract the large ZIP file and place the contents in a suitable directory."
   ]
  },
  {
   "cell_type": "markdown",
   "metadata": {},
   "source": [
    "## Reading the data"
   ]
  },
  {
   "cell_type": "markdown",
   "metadata": {},
   "source": [
    "We'll want to import all the Python modules (open-source libraries) that we'll be using in our code."
   ]
  },
  {
   "cell_type": "code",
   "execution_count": 2,
   "metadata": {},
   "outputs": [],
   "source": [
    "from __future__ import division\n",
    "import xml.etree.ElementTree as ET\n",
    "import re, glob, time\n",
    "import json\n",
    "from collections import defaultdict\n",
    "import nltk\n",
    "import random\n",
    "import spacy\n",
    "from spacy import displacy"
   ]
  },
  {
   "cell_type": "markdown",
   "metadata": {},
   "source": [
    "Next, we'll define some functions that'll allow us to navigate the data directory and process the individual XML files corresponding to each record.\n",
    "\n",
    "We'll write a `load_trial()` function where we can pass in a trial ID number and the location of the directory where we extracted the data, and the function will return a Python dictionary object holding the contents of the XML file. We'll also write a `process_node()` function to recursively navigate the XML tree and copy the data over to a dictionary. Recursion is necessary since not all fields are always present in a trial record, even though there is a schema specifying the XML format (https://clinicaltrials.gov/ct2/html/images/info/public.xsd). Notice that we're using the ElementTree module to read XML files."
   ]
  },
  {
   "cell_type": "code",
   "execution_count": 3,
   "metadata": {},
   "outputs": [],
   "source": [
    "def process_node(parent, parent_dict):\n",
    "    if list(parent):\n",
    "        for child in parent:\n",
    "            child_dict = {}\n",
    "            child_dict = process_node(child, child_dict)\n",
    "            parent_dict[child.tag] = child_dict\n",
    "    else:\n",
    "        parent_dict[\"field_value\"] = parent.text\n",
    "    return parent_dict\n",
    "\n",
    "def load_trial(trial_id, root_dir = \"../clinicaltrials_data/trials/\"):\n",
    "    directory = trial_id[:-4] + \"xxxx\"\n",
    "    filepath = root_dir + directory + \"/\" + trial_id + \".xml\"\n",
    "    \n",
    "    tree = ET.parse(filepath)\n",
    "    root = tree.getroot()\n",
    "    \n",
    "    root_dict = {}\n",
    "    return process_node(root, root_dict)"
   ]
  },
  {
   "cell_type": "markdown",
   "metadata": {},
   "source": [
    "We can load a trial record like this:"
   ]
  },
  {
   "cell_type": "code",
   "execution_count": 16,
   "metadata": {},
   "outputs": [],
   "source": [
    "trial = load_trial(\"NCT00009594\")"
   ]
  },
  {
   "cell_type": "markdown",
   "metadata": {},
   "source": [
    "We have our data in the default root directory, `../clinical_trials/trials`, but you'll need to provide the location of your data directory in case it's somewhere different.\n",
    "\n",
    "Now, let's take a look at the dictionary we got."
   ]
  },
  {
   "cell_type": "code",
   "execution_count": 28,
   "metadata": {},
   "outputs": [
    {
     "data": {
      "text/plain": [
       "{'brief_summary': {'textblock': {'field_value': '\\n      Temporomandibular disorders (TMD) are characterized by pain and tenderness in the muscles of\\n      mastication and/or the temporomandibular joint (TMJ), limitations of jaw opening often\\n      accompanied by deviations in mandibular path, and clicking, popping or grating TMJ sounds.\\n\\n      TMD is often found in association with other problems: depression, anxiety, sleep\\n      disturbances, gastrointestinal symptoms, frequent infections, etc. This project proposes to\\n      holistically address patient symptoms through three different approaches, Naturopathic\\n      Medicine (NM), Traditional Chinese Medicine (TCM), and usual care at KPNW. We will conduct a\\n      pilot test and Phase II trial to evaluate the two alternative healing approaches, TCM (n=50)\\n      and NM (n=50) delivered by TCM and NM practitioners, are as effective as usual TMD care\\n      (n=50) provided by dental clinicians in the KPNW TMD Clinic. Subjects will be females 25-55\\n      years of age with multiple health problems (defined as patients who have had at least 4 organ\\n      system-grouped diagnoses in the past year, not including TMD). Subjects will be evaluated at\\n      baseline, 6 and 12 months after start of treatment. The primary endpoint is change from\\n      baseline in the Axis II Pain Related Disability and Psychological Status Scale. Clinical\\n      examinations, saliva samples to assess salivary cortisol levels, and responses to a series of\\n      questionnaires to assess pain, chronic pain, psychosocial functioning, and other physical\\n      symptoms will be used to assess outcomes. We will passively monitor health care utilization\\n      within KPNW using clinical, research, and administrative databases to determine whether the\\n      interventions have an impact on overall health care utilization. If either of these\\n      alternative interventions is shown to merit Phase III trial, our goal is to design and\\n      implement such a clinical trial to further evaluate the health consequences and costs of\\n      these alternative healing paradigms.\\n    '}},\n",
       " 'brief_title': {'field_value': 'Alternative Medicine Approaches for Women With Temporomandibular Disorders'},\n",
       " 'completion_date': {'field_value': 'July 2004'},\n",
       " 'condition': {'field_value': 'Temporomandibular Joint Disorders'},\n",
       " 'condition_browse': {'mesh_term': {'field_value': 'Joint Diseases'}},\n",
       " 'detailed_description': {'textblock': {'field_value': '\\n      See brief summary\\n    '}},\n",
       " 'eligibility': {'criteria': {'textblock': {'field_value': '\\n        - Patients who have had at least 4 organ system-grouped diagnoses in the past year, not\\n        including TMD\\n      '}},\n",
       "  'gender': {'field_value': 'Female'},\n",
       "  'healthy_volunteers': {'field_value': 'No'},\n",
       "  'maximum_age': {'field_value': '55 Years'},\n",
       "  'minimum_age': {'field_value': '25 Years'}},\n",
       " 'firstreceived_date': {'field_value': 'February 1, 2001'},\n",
       " 'has_expanded_access': {'field_value': 'No'},\n",
       " 'id_info': {'nct_alias': {'field_value': 'NCT00009282'},\n",
       "  'nct_id': {'field_value': 'NCT00009594'},\n",
       "  'org_study_id': {'field_value': 'P50AT000076-01P2'},\n",
       "  'secondary_id': {'field_value': 'P50AT000076-01'}},\n",
       " 'intervention': {'intervention_name': {'field_value': 'Traditional Chinese Medicine'},\n",
       "  'intervention_type': {'field_value': 'Procedure'}},\n",
       " 'last_update_posted': {'field_value': 'August 18, 2006'},\n",
       " 'last_update_submitted': {'field_value': 'August 17, 2006'},\n",
       " 'last_update_submitted_qc': {'field_value': 'August 17, 2006'},\n",
       " 'lastchanged_date': {'field_value': 'August 17, 2006'},\n",
       " 'location': {'facility': {'address': {'city': {'field_value': 'Portland'},\n",
       "    'country': {'field_value': 'United States'},\n",
       "    'state': {'field_value': 'Oregon'},\n",
       "    'zip': {'field_value': '97227-1110'}},\n",
       "   'name': {'field_value': 'Center for Health Research, Kaiser Foundation Hospitals'}}},\n",
       " 'location_countries': {'country': {'field_value': 'United States'}},\n",
       " 'official_title': {'field_value': 'Alternative Medicine Approaches for Women With Temporomandibular Disorders'},\n",
       " 'overall_official': {'affiliation': {'field_value': 'Center for Health Research (CHR), Kaiser Foundation Hospitals'},\n",
       "  'last_name': {'field_value': 'Alexander White'},\n",
       "  'role': {'field_value': 'Principal Investigator'}},\n",
       " 'overall_status': {'field_value': 'Completed'},\n",
       " 'phase': {'field_value': 'Phase 2'},\n",
       " 'required_header': {'download_date': {'field_value': 'ClinicalTrials.gov processed this data on March 08, 2018'},\n",
       "  'link_text': {'field_value': 'Link to the current ClinicalTrials.gov record.'},\n",
       "  'url': {'field_value': 'https://clinicaltrials.gov/show/NCT00009594'}},\n",
       " 'source': {'field_value': 'National Center for Complementary and Integrative Health (NCCIH)'},\n",
       " 'sponsors': {'lead_sponsor': {'agency': {'field_value': 'National Center for Complementary and Integrative Health (NCCIH)'},\n",
       "   'agency_class': {'field_value': 'NIH'}}},\n",
       " 'start_date': {'field_value': 'September 1999'},\n",
       " 'study_design_info': {'primary_purpose': {'field_value': 'Diagnostic'}},\n",
       " 'study_first_posted': {'field_value': 'February 2, 2001'},\n",
       " 'study_first_submitted': {'field_value': 'February 1, 2001'},\n",
       " 'study_first_submitted_qc': {'field_value': 'February 1, 2001'},\n",
       " 'study_type': {'field_value': 'Interventional'},\n",
       " 'verification_date': {'field_value': 'August 2006'}}"
      ]
     },
     "execution_count": 28,
     "metadata": {},
     "output_type": "execute_result"
    }
   ],
   "source": [
    "trial"
   ]
  },
  {
   "cell_type": "markdown",
   "metadata": {},
   "source": [
    "#### How do we interpret this output?\n",
    "\n",
    "It looks very messy at this point. What we want to do is find the unstructured text fields and extract them. So, we'll again define a few functions."
   ]
  },
  {
   "cell_type": "markdown",
   "metadata": {},
   "source": [
    "`find_textblocks()` identifies the fields containing unstructured text in the loaded trial dictionary and returns a list of tuples containing the name of the field and the text in it. `process_textblock()` takes a single textblock and performs a little clean-up on the text data by removing extra whitespace. `get_textblocks()` creates a dictionary from the list of tuples with the field names as keys and the textblocks as values. Finally, `extract_textblocks()` is a wrapper for all of these functions. "
   ]
  },
  {
   "cell_type": "code",
   "execution_count": 7,
   "metadata": {},
   "outputs": [],
   "source": [
    "def find_textblocks(field, textblocks = [], current = \"root\"):\n",
    "    subfields = field.keys()\n",
    "    if not subfields == [\"field_value\"]:\n",
    "        if \"textblock\" in subfields:\n",
    "            textblocks.append((current, field[\"textblock\"][\"field_value\"]))\n",
    "        if len(subfields) > 1:    \n",
    "            for subfield in subfields:\n",
    "                if not subfield == \"textblock\":\n",
    "                    textblocks = find_textblocks(field[subfield], textblocks, current = current + \">\" + subfield)\n",
    "    return textblocks\n",
    "\n",
    "def process_textblock(textblock):\n",
    "    utext = textblock\n",
    "    lines = re.sub(\"\\n*[ ]+\", \" \", utext)\n",
    "    lines = lines.strip()\n",
    "    return lines\n",
    "\n",
    "def get_textblocks(textblocks):\n",
    "    textblocks_dict = {}\n",
    "    for textblock in textblocks:\n",
    "        levels = re.split(\">\", textblock[0])\n",
    "        key = \">\".join(levels[1:])\n",
    "        textblocks_dict[key] = process_textblock(textblock[1])\n",
    "    return textblocks_dict\n",
    "\n",
    "def extract_textblocks(trial_id, root_dir = \"../clinicaltrials_data/trials/\"):\n",
    "    return get_textblocks(find_textblocks(load_trial(trial_id, root_dir = root_dir), textblocks = []))"
   ]
  },
  {
   "cell_type": "markdown",
   "metadata": {},
   "source": [
    "All you need to do to get the unstructured text from a trial description is:"
   ]
  },
  {
   "cell_type": "code",
   "execution_count": 15,
   "metadata": {},
   "outputs": [
    {
     "data": {
      "text/plain": [
       "{'brief_summary': 'Temporomandibular disorders (TMD) are characterized by pain and tenderness in the muscles of mastication and/or the temporomandibular joint (TMJ), limitations of jaw opening often accompanied by deviations in mandibular path, and clicking, popping or grating TMJ sounds. TMD is often found in association with other problems: depression, anxiety, sleep disturbances, gastrointestinal symptoms, frequent infections, etc. This project proposes to holistically address patient symptoms through three different approaches, Naturopathic Medicine (NM), Traditional Chinese Medicine (TCM), and usual care at KPNW. We will conduct a pilot test and Phase II trial to evaluate the two alternative healing approaches, TCM (n=50) and NM (n=50) delivered by TCM and NM practitioners, are as effective as usual TMD care (n=50) provided by dental clinicians in the KPNW TMD Clinic. Subjects will be females 25-55 years of age with multiple health problems (defined as patients who have had at least 4 organ system-grouped diagnoses in the past year, not including TMD). Subjects will be evaluated at baseline, 6 and 12 months after start of treatment. The primary endpoint is change from baseline in the Axis II Pain Related Disability and Psychological Status Scale. Clinical examinations, saliva samples to assess salivary cortisol levels, and responses to a series of questionnaires to assess pain, chronic pain, psychosocial functioning, and other physical symptoms will be used to assess outcomes. We will passively monitor health care utilization within KPNW using clinical, research, and administrative databases to determine whether the interventions have an impact on overall health care utilization. If either of these alternative interventions is shown to merit Phase III trial, our goal is to design and implement such a clinical trial to further evaluate the health consequences and costs of these alternative healing paradigms.',\n",
       " 'detailed_description': 'See brief summary',\n",
       " 'eligibility>criteria': '- Patients who have had at least 4 organ system-grouped diagnoses in the past year, not including TMD'}"
      ]
     },
     "execution_count": 15,
     "metadata": {},
     "output_type": "execute_result"
    }
   ],
   "source": [
    "extract_textblocks(\"NCT00009594\")"
   ]
  },
  {
   "cell_type": "markdown",
   "metadata": {},
   "source": [
    "## Matching indicators inside the text\n",
    "\n",
    "We wrote out a schema containing the textual patterns we'll be looking for (we call these _indicators_) in the extracted textblocks. We load this schema in like this:"
   ]
  },
  {
   "cell_type": "code",
   "execution_count": 9,
   "metadata": {},
   "outputs": [],
   "source": [
    "schema = json.load(open(\"../structured-output-schema.json\", \"r\"))"
   ]
  },
  {
   "cell_type": "markdown",
   "metadata": {},
   "source": [
    "Next, we'll use regular expressions and write a few functions to match the indicators in the schema in the extracted texblocks. \n",
    "\n",
    "`create_regex_format()` compiles a regular expression (_regex_) from the defined indicator pattern. Compiling this regex allows us to match indicators at any position&mdash;beginning, middle, or end. `find_indicators()` processes the schema to generate a dictionary containing the compiled regex from each indicator, as well as the hierarchical information about that indicator. `match_indicators()` is where we use these regexes to find sentences where a match exists and put these matched fragments, along with a sentence ID number, in a dictionary.\n"
   ]
  },
  {
   "cell_type": "code",
   "execution_count": 29,
   "metadata": {},
   "outputs": [],
   "source": [
    "def create_regex_format(x):\n",
    "    regex = re.compile(r\"[^a-z0-9](\" + x + r\")[^a-z0-9]\")\n",
    "    return regex\n",
    "    \n",
    "def find_indicators(element, indicators_dict = {}, current = \"root\"):\n",
    "    if type(element) == dict:\n",
    "        subelements = element.keys()\n",
    "        if \"indicators\" in subelements and element[\"indicators\"]:\n",
    "            indicators_dict[re.sub(\"refinements>\", \"\",current)] = (map(create_regex_format, element[\"indicators\"]))\n",
    "        if len(subelements) > 1:\n",
    "            for subelement in subelements:\n",
    "                if type(element[subelement]) == dict:\n",
    "                    indicators_dict = find_indicators(\n",
    "                        element[subelement], indicators_dict, current = current + \">\" + subelement\n",
    "                    )\n",
    "    return indicators_dict\n",
    "\n",
    "def match_indicators(d, indicators_dict, secID):\n",
    "    lines = d.get(secID,\"\")\n",
    "    found = defaultdict(list)\n",
    "    for sentNum, sentence in enumerate(nltk.sent_tokenize(lines)):\n",
    "        for group in indicators_dict:\n",
    "            matches = []\n",
    "            for n, indicator in enumerate(indicators_dict[group]):\n",
    "                padded = \" \" + sentence.lower().strip() + \" \"\n",
    "                if indicator.search(padded):\n",
    "                    nuggets = indicator.findall(padded)\n",
    "                    matches.append(re.sub(r\"^.*?\\]\\((.*?)\\)\\[.*?$\",r\"\\1\",indicator.pattern))\n",
    "            if matches:\n",
    "                found[group].append((matches, str(sentNum)))\n",
    "    return dict(found)"
   ]
  },
  {
   "cell_type": "markdown",
   "metadata": {},
   "source": [
    "First, we need to create the dictionary of indicators from the schema:"
   ]
  },
  {
   "cell_type": "code",
   "execution_count": 11,
   "metadata": {},
   "outputs": [],
   "source": [
    "indicators_dict = find_indicators(schema)"
   ]
  },
  {
   "cell_type": "markdown",
   "metadata": {},
   "source": [
    "Next, we pass a dictionary of textblocks, extracted from a trial record, into `match_indicators()`, along with the section that we want to examine, and store the output in `found`."
   ]
  },
  {
   "cell_type": "code",
   "execution_count": 30,
   "metadata": {},
   "outputs": [],
   "source": [
    "textblocks_dict = extract_textblocks(\"NCT00009594\")\n",
    "found = match_indicators(textblocks_dict, indicators_dict, \"brief_summary\")"
   ]
  },
  {
   "cell_type": "markdown",
   "metadata": {},
   "source": [
    "So, for example, this dictionary tells us that an indicator related to burden, \"(?:\\\\d+-)*\\\\\\d+ years\", matched with the 5th sentence (sentence IDs start from 0) in the \"brief_summary\" section of trial NCT00009594."
   ]
  },
  {
   "cell_type": "code",
   "execution_count": 31,
   "metadata": {},
   "outputs": [
    {
     "data": {
      "text/plain": [
       "{u'root>burden': [([u'(?:\\\\d+-)*\\\\d+ years'], '4'),\n",
       "  ([u'(?:\\\\d+-)*\\\\d+ months'], '5')],\n",
       " u'root>intervention': [([u'will be used'], '7')],\n",
       " u'root>primary_aim>observational': [([u'evaluate'], '3'),\n",
       "  ([u'monitor'], '8'),\n",
       "  ([u'evaluate'], '9')],\n",
       " u'root>size of study': [([u'subjects'], '4'), ([u'subjects'], '5')]}"
      ]
     },
     "execution_count": 31,
     "metadata": {},
     "output_type": "execute_result"
    }
   ],
   "source": [
    "found"
   ]
  },
  {
   "cell_type": "markdown",
   "metadata": {},
   "source": [
    "#### Where to go from here?\n",
    "\n",
    "This notebook is a toolkit to extract sentences that may contain information of value to patients. However, these are only sentences which are _indicated_ and not necessarily the target information. For example, even if the phrase \"every 6 months\" does relate to patient burden, it is lacking critical information on what occurs. This latter interest is the focus of our subsequent exploration of syntax and grammar."
   ]
  },
  {
   "cell_type": "code",
   "execution_count": null,
   "metadata": {},
   "outputs": [],
   "source": []
  }
 ],
 "metadata": {
  "kernelspec": {
   "display_name": "Python 2",
   "language": "python",
   "name": "python2"
  },
  "language_info": {
   "codemirror_mode": {
    "name": "ipython",
    "version": 2
   },
   "file_extension": ".py",
   "mimetype": "text/x-python",
   "name": "python",
   "nbconvert_exporter": "python",
   "pygments_lexer": "ipython2",
   "version": "2.7.10"
  }
 },
 "nbformat": 4,
 "nbformat_minor": 2
}
